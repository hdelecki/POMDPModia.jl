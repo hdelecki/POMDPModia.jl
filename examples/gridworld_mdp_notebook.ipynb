{
 "cells": [
  {
   "cell_type": "markdown",
   "metadata": {},
   "source": [
    "# POMDPModia.jl: Getting Started\n",
    "\n",
    "The POMDPModia.jl package fully integrates with most other packages in the JuliaPOMDP ecosystem, including POMDPs.jl, POMDPPolicies.jl, BeliefUpdaters.jl, POMDPSimulators.jl, online and offline solvers.\n",
    "\n",
    "## Multiple grid worlds example\n",
    "\n",
    "In this notebook, a MODIA will be created for an example that has multiple amounts of different grid world MDPs. The objective is to pick the safest action, w.r.t. the individual states for each MDP.\n",
    "\n",
    "\n"
   ]
  },
  {
   "cell_type": "code",
   "execution_count": 1,
   "metadata": {},
   "outputs": [],
   "source": [
    "include(\"../src/main.jl\")"
   ]
  },
  {
   "cell_type": "code",
   "execution_count": 2,
   "metadata": {},
   "outputs": [],
   "source": [
    "using POMDPs\n",
    "using POMDPModels: SimpleGridWorld, GWPos\n",
    "using DiscreteValueIteration\n",
    "using Random"
   ]
  },
  {
   "cell_type": "markdown",
   "metadata": {},
   "source": [
    "A MODIA object containing only MDPs consists of four components:\n",
    "1. **Decision Problems (DPs)**: The minimum number of unique POMDPs required to effectively describe the problem at hand.\n",
    "2. **Decision Components (DCs)**: The amount of each DP.\n",
    "3. **Safety Sort Function (SSF)**: The function used to sort and pick the \"safest\" action amonng all the actions suggested by the policies of each individual POMDP.\n",
    "4. **Markov Processes (MPs)**: The entire stack of MDPs kept track, totalling to an amount of sum(DCs).\n",
    "\n",
    "In this example, we define three different grid world characteristics as follows."
   ]
  },
  {
   "cell_type": "code",
   "execution_count": 3,
   "metadata": {},
   "outputs": [],
   "source": [
    "grid_problem1 = SimpleGridWorld(size=(4,4), rewards=Dict(GWPos(4,1)=>-10.0, GWPos(4,3)=>30.0));\n",
    "grid_problem2 = SimpleGridWorld(size=(4,4), rewards=Dict(GWPos(2,2)=>-20.0, GWPos(4,4)=>20.0));\n",
    "grid_problem3 = SimpleGridWorld(size=(4,4), rewards=Dict(GWPos(3,4)=>-30.0, GWPos(1,4)=>10.0));"
   ]
  },
  {
   "cell_type": "markdown",
   "metadata": {},
   "source": [
    "The first three components of MODIA can then be created:"
   ]
  },
  {
   "cell_type": "code",
   "execution_count": 4,
   "metadata": {},
   "outputs": [],
   "source": [
    "DPs = [grid_problem1, grid_problem2, grid_problem3];\n",
    "DCs = [4, 1, 2];\n",
    "function SSF(acts::AbstractArray)   # say, we prefer going :up the most, then :down, then :left, lastly :right.\n",
    "    keys = (:up, :down, :left, :right)\n",
    "    vals = [1, 2, 3, 4]\n",
    "    return keys[minimum(map(item -> Dict(keys.=>vals)[item], acts))]\n",
    "end;"
   ]
  },
  {
   "cell_type": "markdown",
   "metadata": {},
   "source": [
    "We can instantiate a MODIA object, using one of the two methods below: Either defining a MODIA object, and then initializing the states (using a distribution of initial states) for each MP it contains; or executing both operations simultaneously."
   ]
  },
  {
   "cell_type": "code",
   "execution_count": 5,
   "metadata": {},
   "outputs": [],
   "source": [
    "## Method 1 ##\n",
    "modia = MODIA(DPs, DCs, SSF)\n",
    "initialize_states!(modia, POMDPs.initialstate);\n",
    "\n",
    "## Method 2 ##\n",
    "modia = MODIA(DPs, DCs, SSF, POMDPs.initialstate);"
   ]
  },
  {
   "cell_type": "markdown",
   "metadata": {},
   "source": [
    "Let's inspect this modia object."
   ]
  },
  {
   "cell_type": "code",
   "execution_count": 6,
   "metadata": {},
   "outputs": [
    {
     "data": {
      "text/plain": [
       "MODIA_of_MDPs"
      ]
     },
     "execution_count": 6,
     "metadata": {},
     "output_type": "execute_result"
    }
   ],
   "source": [
    "typeof(modia)   # automatically determined that all MPs are MDPs."
   ]
  },
  {
   "cell_type": "code",
   "execution_count": 7,
   "metadata": {},
   "outputs": [
    {
     "data": {
      "text/plain": [
       "Set{NTuple{4,Symbol}} with 1 element:\n",
       "  (:up, :down, :left, :right)"
      ]
     },
     "execution_count": 7,
     "metadata": {},
     "output_type": "execute_result"
    }
   ],
   "source": [
    "actions(modia)  # set of all possible actions in MPs."
   ]
  },
  {
   "cell_type": "code",
   "execution_count": 8,
   "metadata": {},
   "outputs": [
    {
     "data": {
      "text/plain": [
       "7-element Array{SimpleGridWorld,1}:\n",
       " SimpleGridWorld((4, 4), Dict{StaticArrays.SArray{Tuple{2},Int64,1,2},Float64}([4, 1] => -10.0,[4, 3] => 30.0), Set(StaticArrays.SArray{Tuple{2},Int64,1,2}[[4, 1], [4, 3]]), 0.7, 0.95)\n",
       " SimpleGridWorld((4, 4), Dict{StaticArrays.SArray{Tuple{2},Int64,1,2},Float64}([4, 1] => -10.0,[4, 3] => 30.0), Set(StaticArrays.SArray{Tuple{2},Int64,1,2}[[4, 1], [4, 3]]), 0.7, 0.95)\n",
       " SimpleGridWorld((4, 4), Dict{StaticArrays.SArray{Tuple{2},Int64,1,2},Float64}([4, 1] => -10.0,[4, 3] => 30.0), Set(StaticArrays.SArray{Tuple{2},Int64,1,2}[[4, 1], [4, 3]]), 0.7, 0.95)\n",
       " SimpleGridWorld((4, 4), Dict{StaticArrays.SArray{Tuple{2},Int64,1,2},Float64}([4, 1] => -10.0,[4, 3] => 30.0), Set(StaticArrays.SArray{Tuple{2},Int64,1,2}[[4, 1], [4, 3]]), 0.7, 0.95)\n",
       " SimpleGridWorld((4, 4), Dict{StaticArrays.SArray{Tuple{2},Int64,1,2},Float64}([4, 4] => 20.0,[2, 2] => -20.0), Set(StaticArrays.SArray{Tuple{2},Int64,1,2}[[4, 4], [2, 2]]), 0.7, 0.95)\n",
       " SimpleGridWorld((4, 4), Dict{StaticArrays.SArray{Tuple{2},Int64,1,2},Float64}([1, 4] => 10.0,[3, 4] => -30.0), Set(StaticArrays.SArray{Tuple{2},Int64,1,2}[[1, 4], [3, 4]]), 0.7, 0.95)\n",
       " SimpleGridWorld((4, 4), Dict{StaticArrays.SArray{Tuple{2},Int64,1,2},Float64}([1, 4] => 10.0,[3, 4] => -30.0), Set(StaticArrays.SArray{Tuple{2},Int64,1,2}[[1, 4], [3, 4]]), 0.7, 0.95)"
      ]
     },
     "execution_count": 8,
     "metadata": {},
     "output_type": "execute_result"
    }
   ],
   "source": [
    "collect(modia)  # all MPs inside modia."
   ]
  },
  {
   "cell_type": "code",
   "execution_count": 9,
   "metadata": {},
   "outputs": [
    {
     "data": {
      "text/plain": [
       "7-element Array{StaticArrays.SArray{Tuple{2},Int64,1,2},1}:\n",
       " [1, 3]\n",
       " [3, 3]\n",
       " [4, 2]\n",
       " [1, 4]\n",
       " [2, 2]\n",
       " [1, 3]\n",
       " [4, 2]"
      ]
     },
     "execution_count": 9,
     "metadata": {},
     "output_type": "execute_result"
    }
   ],
   "source": [
    "collect_states(modia)  # all initial states inside modia."
   ]
  },
  {
   "cell_type": "markdown",
   "metadata": {},
   "source": [
    "Now, let's choose an offline solver to compute optimal policies to each MP individually."
   ]
  },
  {
   "cell_type": "code",
   "execution_count": 10,
   "metadata": {},
   "outputs": [
    {
     "data": {
      "text/plain": [
       ":up"
      ]
     },
     "execution_count": 10,
     "metadata": {},
     "output_type": "execute_result"
    }
   ],
   "source": [
    "solver = ValueIterationSolver();\n",
    "policies = POMDPs.solve(solver, modia);  # includes 7 different policy, for each MP.\n",
    "act = safest_action(policies, modia)  # safest action, according to our SSF."
   ]
  },
  {
   "cell_type": "code",
   "execution_count": 11,
   "metadata": {},
   "outputs": [
    {
     "data": {
      "text/plain": [
       "7-element Array{Symbol,1}:\n",
       " :right\n",
       " :right\n",
       " :up\n",
       " :right\n",
       " :up\n",
       " :up\n",
       " :left"
      ]
     },
     "execution_count": 11,
     "metadata": {},
     "output_type": "execute_result"
    }
   ],
   "source": [
    "POMDPs.action.(policies.policies, modia.states.states)"
   ]
  },
  {
   "cell_type": "markdown",
   "metadata": {},
   "source": [
    "We can simulate the MODIA for a desired number of steps, and return the received discounted reward at the horizon. To do so, we use the following inputs:\n",
    "1. **Simulator properties**: An object to prescribe properties such as RNG, max steps, etc.\n",
    "2. **The MODIA object**: A MODIA instantiated using DPs, DCs, SSF, and initial states.\n",
    "3. **Policies (online or offline)**: Policies to compute optimal actions for each MP.\n",
    "4. **MODIA Modification Function (MMF)**: [Optional] A function that specifies when new DPs or DCs are instantiated or terminated within MODIA. "
   ]
  },
  {
   "cell_type": "code",
   "execution_count": 12,
   "metadata": {},
   "outputs": [
    {
     "data": {
      "text/plain": [
       "7-element Array{Float64,1}:\n",
       "   0.0\n",
       "   0.0\n",
       "   0.0\n",
       "   0.0\n",
       " -20.0\n",
       "   0.0\n",
       "   0.0"
      ]
     },
     "execution_count": 12,
     "metadata": {},
     "output_type": "execute_result"
    }
   ],
   "source": [
    "sim = POMDPSimulators.RolloutSimulator(max_steps=5)\n",
    "r_totals = POMDPs.simulate(sim, modia, policies)"
   ]
  },
  {
   "cell_type": "markdown",
   "metadata": {},
   "source": [
    "The returned result above is the total discounted rewards for the specified 5 steps in the horizon. "
   ]
  },
  {
   "cell_type": "markdown",
   "metadata": {},
   "source": [
    "We can define our custom MMF using the following functions to add/remove DPs and DCs."
   ]
  },
  {
   "cell_type": "code",
   "execution_count": 13,
   "metadata": {},
   "outputs": [],
   "source": [
    "grid_problem4 = SimpleGridWorld(size=(4,4), rewards=Dict(GWPos(1,2)=>-5.0, GWPos(3,4)=>5.0));\n",
    "push_DP!(modia, grid_problem4);\n",
    "push_DCs!(modia, 4, 6, POMDPs.initialstate);  # DP: 4, DCs: 6\n",
    "delete_DPs!(modia, [1,2])\n",
    "delete_DC!(modia, 1, 1)  # DP: 1, DC: 1"
   ]
  },
  {
   "cell_type": "markdown",
   "metadata": {},
   "source": [
    "These operations should result in the remainder of one `grid_problem3` and six `grid_problem4` Markov processes in our MODIA object, which we can verify below."
   ]
  },
  {
   "cell_type": "code",
   "execution_count": 14,
   "metadata": {},
   "outputs": [
    {
     "data": {
      "text/plain": [
       "2-element Array{SimpleGridWorld,1}:\n",
       " SimpleGridWorld((4, 4), Dict{StaticArrays.SArray{Tuple{2},Int64,1,2},Float64}([1, 4] => 10.0,[3, 4] => -30.0), Set(StaticArrays.SArray{Tuple{2},Int64,1,2}[[1, 4], [3, 4]]), 0.7, 0.95)\n",
       " SimpleGridWorld((4, 4), Dict{StaticArrays.SArray{Tuple{2},Int64,1,2},Float64}([1, 2] => -5.0,[3, 4] => 5.0), Set(StaticArrays.SArray{Tuple{2},Int64,1,2}[[1, 2], [3, 4]]), 0.7, 0.95)"
      ]
     },
     "execution_count": 14,
     "metadata": {},
     "output_type": "execute_result"
    }
   ],
   "source": [
    "modia.DPs"
   ]
  },
  {
   "cell_type": "code",
   "execution_count": 15,
   "metadata": {},
   "outputs": [
    {
     "data": {
      "text/plain": [
       "2-element Array{Int64,1}:\n",
       " 1\n",
       " 6"
      ]
     },
     "execution_count": 15,
     "metadata": {},
     "output_type": "execute_result"
    }
   ],
   "source": [
    "modia.DCs"
   ]
  }
 ],
 "metadata": {
  "kernelspec": {
   "display_name": "Julia 1.4.2",
   "language": "julia",
   "name": "julia-1.4"
  },
  "language_info": {
   "file_extension": ".jl",
   "mimetype": "application/julia",
   "name": "julia",
   "version": "1.4.2"
  }
 },
 "nbformat": 4,
 "nbformat_minor": 4
}
